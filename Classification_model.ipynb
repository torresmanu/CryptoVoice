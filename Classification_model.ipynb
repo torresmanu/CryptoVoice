{
 "cells": [
  {
   "cell_type": "markdown",
   "metadata": {},
   "source": [
    "## FUSIONAR DF Y AÑADIR LABELS"
   ]
  },
  {
   "cell_type": "code",
   "execution_count": 1,
   "metadata": {},
   "outputs": [
    {
     "name": "stdout",
     "output_type": "stream",
     "text": [
      "                                                text  label\n",
      "0  The FAA ban on some batteries on planes — star...      0\n",
      "1  It’s a tradition: New Year’s Day provides all-...      0\n",
      "3  Many people try to organize a space, rather th...      0\n",
      "4  The last time the U.S. started this well, they...      0\n",
      "5  For over a month, Mitt Romney has been well be...      0\n"
     ]
    }
   ],
   "source": [
    "import pandas as pd\n",
    "\n",
    "# Cargar los datasets\n",
    "df_no_crypto = pd.read_csv('model_no_crypto_data.csv', usecols=['title'])  # Cambia 'texto' por el nombre real de la columna\n",
    "df_crypto = pd.read_csv('model_crypto_data.csv', usecols=['title'])  # Cambia 'texto' por el nombre real de la columna\n",
    "\n",
    "# Etiquetar los datos\n",
    "df_no_crypto['label'] = 0\n",
    "df_crypto['label'] = 1\n",
    "\n",
    "# Renombrar la columna de texto en ambos datasets para que tengan el mismo nombre\n",
    "df_no_crypto.rename(columns={'title': 'text'}, inplace=True)\n",
    "df_crypto.rename(columns={'title': 'text'}, inplace=True)\n",
    "\n",
    "# Combinar los dos datasets en uno solo\n",
    "df = pd.concat([df_no_crypto, df_crypto])\n",
    "\n",
    "# Manejar valores NaN: eliminar filas con NaN o rellenarlas con una cadena vacía\n",
    "df.dropna(subset=['text'], inplace=True)\n",
    "\n",
    "# Verificar que los datos estén combinados correctamente\n",
    "print(df.head())\n"
   ]
  },
  {
   "cell_type": "markdown",
   "metadata": {},
   "source": [
    "# BUENO"
   ]
  },
  {
   "cell_type": "code",
   "execution_count": 2,
   "metadata": {},
   "outputs": [
    {
     "name": "stdout",
     "output_type": "stream",
     "text": [
      "Accuracy: 0.9991803758562146\n",
      "              precision    recall  f1-score   support\n",
      "\n",
      "           0       1.00      1.00      1.00    110550\n",
      "           1       1.00      0.99      0.99      9017\n",
      "\n",
      "    accuracy                           1.00    119567\n",
      "   macro avg       1.00      0.99      1.00    119567\n",
      "weighted avg       1.00      1.00      1.00    119567\n",
      "\n",
      "Predicción: Relacionado con criptomonedas\n"
     ]
    }
   ],
   "source": [
    "import pandas as pd\n",
    "from sklearn.model_selection import train_test_split\n",
    "from sklearn.feature_extraction.text import TfidfVectorizer\n",
    "from sklearn.svm import SVC\n",
    "from sklearn.metrics import classification_report, accuracy_score\n",
    "\n",
    "\n",
    "# Asegurarse de que X_train y X_test son listas de texto\n",
    "X_train, X_test, y_train, y_test = train_test_split(df['text'].tolist(), df['label'], test_size=0.2, random_state=42)\n",
    "\n",
    "# Vectorización de textos\n",
    "vectorizer = TfidfVectorizer()\n",
    "X_train_tfidf = vectorizer.fit_transform(X_train)\n",
    "X_test_tfidf = vectorizer.transform(X_test)\n",
    "\n",
    "# Entrenamiento del modelo SVM\n",
    "model = SVC(kernel='linear')  # Utilizando el kernel lineal\n",
    "model.fit(X_train_tfidf, y_train)\n",
    "\n",
    "# Predicción y evaluación\n",
    "y_pred = model.predict(X_test_tfidf)\n",
    "print(\"Accuracy:\", accuracy_score(y_test, y_pred))\n",
    "print(classification_report(y_test, y_pred))\n",
    "\n",
    "# Prueba con un nuevo texto\n",
    "new_text = [\"Investing in cryptos might not be as OverPowered\"]\n",
    "new_text_tfidf = vectorizer.transform(new_text)\n",
    "prediction = model.predict(new_text_tfidf)\n",
    "print(\"Predicción:\", \"Relacionado con criptomonedas\" if prediction[0] == 1 else \"No relacionado con criptomonedas\")"
   ]
  },
  {
   "cell_type": "code",
   "execution_count": 4,
   "metadata": {},
   "outputs": [
    {
     "name": "stdout",
     "output_type": "stream",
     "text": [
      "Note: you may need to restart the kernel to use updated packages.\n",
      "Defaulting to user installation because normal site-packages is not writeable\n"
     ]
    },
    {
     "name": "stderr",
     "output_type": "stream",
     "text": [
      "ERROR: Could not find a version that satisfies the requirement pickle (from versions: none)\n",
      "ERROR: No matching distribution found for pickle\n"
     ]
    }
   ],
   "source": [
    "pip install pickle"
   ]
  },
  {
   "cell_type": "markdown",
   "metadata": {},
   "source": [
    "## PREDICCIONES"
   ]
  },
  {
   "cell_type": "code",
   "execution_count": 7,
   "metadata": {},
   "outputs": [
    {
     "name": "stdout",
     "output_type": "stream",
     "text": [
      "Total de registros: 544462\n",
      "Registros relacionados con criptomonedas (1): 271107\n",
      "Registros no relacionados con criptomonedas (0): 273355\n",
      "Registros filtrados guardados en 'C:/Users/joans/Desktop/BIG DATA M1/TFM/Scripts/crypto_news_combined_filtered.csv'\n"
     ]
    }
   ],
   "source": [
    "import pandas as pd\n",
    "import os\n",
    "\n",
    "# Leer el archivo CSV con nuevos textos para hacer predicciones\n",
    "input_file = 'C:/Users/joans/Desktop/BIG DATA M1/TFM/Scripts/crypto_news_sentiment.csv' \n",
    "df_nuevos_datos = pd.read_csv(input_file)\n",
    "\n",
    "# Vectorizar los textos de la columna 'CLEAN TEXT'\n",
    "X_nuevos_datos_tfidf = vectorizer.transform(df_nuevos_datos['CLEAN TEXT'].tolist())\n",
    "\n",
    "# Hacer predicciones usando el modelo SVM que ya tienes entrenado\n",
    "predicciones = model.predict(X_nuevos_datos_tfidf)\n",
    "\n",
    "# Añadir las predicciones al DataFrame\n",
    "df_nuevos_datos['prediccion'] = predicciones\n",
    "df_nuevos_datos['prediccion'] = df_nuevos_datos['prediccion'].apply(lambda x: 1 if x == 1 else 0)\n",
    "\n",
    "# Contar los totales\n",
    "total_registros = df_nuevos_datos.shape[0]\n",
    "registros_crypto = df_nuevos_datos[df_nuevos_datos['prediccion'] == 1].shape[0]\n",
    "registros_no_crypto = df_nuevos_datos[df_nuevos_datos['prediccion'] == 0].shape[0]\n",
    "\n",
    "# Filtrar los registros que están relacionados con criptomonedas (prediccion = 1)\n",
    "df_crypto = df_nuevos_datos[df_nuevos_datos['prediccion'] == 1]\n",
    "\n",
    "# Guardar solo los registros relacionados con criptomonedas en un archivo con el mismo nombre que el archivo original pero con _filtered\n",
    "output_file = os.path.splitext(input_file)[0] + '_filtered.csv'\n",
    "df_crypto.to_csv(output_file, index=False)\n",
    "\n",
    "# Mostrar los conteos\n",
    "print(f\"Total de registros: {total_registros}\")\n",
    "print(f\"Registros relacionados con criptomonedas (1): {registros_crypto}\")\n",
    "print(f\"Registros no relacionados con criptomonedas (0): {registros_no_crypto}\")\n",
    "print(f\"Registros filtrados guardados en '{output_file}'\")\n"
   ]
  }
 ],
 "metadata": {
  "kernelspec": {
   "display_name": "Python 3",
   "language": "python",
   "name": "python3"
  },
  "language_info": {
   "codemirror_mode": {
    "name": "ipython",
    "version": 3
   },
   "file_extension": ".py",
   "mimetype": "text/x-python",
   "name": "python",
   "nbconvert_exporter": "python",
   "pygments_lexer": "ipython3",
   "version": "3.12.undefined"
  }
 },
 "nbformat": 4,
 "nbformat_minor": 2
}
